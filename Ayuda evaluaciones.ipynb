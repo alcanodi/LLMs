{
 "cells": [
  {
   "cell_type": "markdown",
   "metadata": {},
   "source": [
    "Install packages "
   ]
  },
  {
   "cell_type": "code",
   "execution_count": null,
   "metadata": {},
   "outputs": [],
   "source": [
    "!pip install google-generativeai\n",
    "!pip install python-dotenv\n",
    "!pip install langchain\n",
    "!pip install PyPDF2\n",
    "!pip install chromadb\n",
    "!pip install faiss-cpu\n",
    "!pip install langchain_google_genai\n",
    "!pip install langchain sqlalchemy\n",
    "!pip install python-dotenv"
   ]
  },
  {
   "cell_type": "markdown",
   "metadata": {},
   "source": [
    "Importing libraries"
   ]
  },
  {
   "cell_type": "code",
   "execution_count": 1,
   "metadata": {},
   "outputs": [
    {
     "name": "stderr",
     "output_type": "stream",
     "text": [
      "c:\\Users\\a.canod\\AppData\\Local\\anaconda3\\envs\\entorno_pruebas_acd\\Lib\\site-packages\\tqdm\\auto.py:21: TqdmWarning: IProgress not found. Please update jupyter and ipywidgets. See https://ipywidgets.readthedocs.io/en/stable/user_install.html\n",
      "  from .autonotebook import tqdm as notebook_tqdm\n"
     ]
    }
   ],
   "source": [
    "from PyPDF2 import PdfReader\n",
    "from langchain.text_splitter import RecursiveCharacterTextSplitter\n",
    "import os\n",
    "from langchain_google_genai import GoogleGenerativeAIEmbeddings\n",
    "import google.generativeai as genai\n",
    "from langchain.vectorstores import FAISS\n",
    "from langchain_google_genai import ChatGoogleGenerativeAI\n",
    "from langchain.chains.question_answering import load_qa_chain\n",
    "from langchain.prompts import PromptTemplate\n",
    "from dotenv import load_dotenv"
   ]
  },
  {
   "cell_type": "markdown",
   "metadata": {},
   "source": [
    "Configure Gemini API key"
   ]
  },
  {
   "cell_type": "code",
   "execution_count": 2,
   "metadata": {},
   "outputs": [],
   "source": [
    "from dotenv import load_dotenv\n",
    "import os\n",
    "load_dotenv()\n",
    "\n",
    "GEMINI_API_KEY=os.getenv('GEMINI_API_KEY')"
   ]
  },
  {
   "cell_type": "code",
   "execution_count": 3,
   "metadata": {},
   "outputs": [],
   "source": [
    "import google.generativeai as genai\n",
    "\n",
    "\n",
    "gemini_api_secret_name = GEMINI_API_KEY\n",
    "\n",
    "GOOGLE_API_KEY=gemini_api_secret_name\n",
    "genai.configure(api_key=GOOGLE_API_KEY)"
   ]
  },
  {
   "cell_type": "markdown",
   "metadata": {},
   "source": [
    "Fijar directorio de tabajo"
   ]
  },
  {
   "cell_type": "code",
   "execution_count": 4,
   "metadata": {},
   "outputs": [],
   "source": [
    "comision = os.getenv('COMISION')\n",
    "alumno = os.getenv('ALUMNO')\n",
    "archivo = os.getenv('ARCHIVO')\n",
    "pdf = f'{comision}{alumno}{archivo}'"
   ]
  },
  {
   "cell_type": "markdown",
   "metadata": {},
   "source": [
    "Definir funciones"
   ]
  },
  {
   "cell_type": "code",
   "execution_count": 5,
   "metadata": {},
   "outputs": [],
   "source": [
    "google_api_key=GEMINI_API_KEY\n",
    "chat_history=[]\n",
    "def get_pdf_text(pdf):\n",
    "    text=\"\"\n",
    "    pdf_reader= PdfReader(pdf)\n",
    "    for page in pdf_reader.pages:\n",
    "        text+= page.extract_text()\n",
    "    return  text\n",
    "def get_text_chunks(text):\n",
    "    text_splitter = RecursiveCharacterTextSplitter(chunk_size=10000, chunk_overlap=1000)\n",
    "    chunks = text_splitter.split_text(text)\n",
    "    return chunks\n",
    "\n",
    "\n",
    "def get_vector_store(text_chunks):\n",
    "    embeddings = GoogleGenerativeAIEmbeddings(model = \"models/embedding-001\", google_api_key=google_api_key)\n",
    "    vector_store = FAISS.from_texts(text_chunks, embedding=embeddings)\n",
    "    vector_store.save_local(\"faiss_index\")\n",
    "\n",
    "\n",
    "def get_conversational_chain():\n",
    "\n",
    "    prompt_template = \"\"\"\n",
    "\n",
    "    Please answer in spanish \\n\\n\n",
    "    Context:\\n {context}?\\n\n",
    "    Question: \\n{question}\\n\n",
    "\n",
    "    Answer:\n",
    "    \"\"\"\n",
    "\n",
    "    model = ChatGoogleGenerativeAI(model=\"gemini-pro\",\n",
    "                             temperature=0, google_api_key=google_api_key)\n",
    "\n",
    "    prompt = PromptTemplate(template = prompt_template, input_variables = [\"context\", \"question\"])\n",
    "    chain = load_qa_chain(model, chain_type=\"stuff\", prompt=prompt)\n",
    "\n",
    "    return chain\n",
    "\n",
    "def user_input(user_question):\n",
    "    embeddings = GoogleGenerativeAIEmbeddings(model = \"models/embedding-001\", google_api_key=google_api_key)\n",
    "\n",
    "    new_db = FAISS.load_local(\"faiss_index\", embeddings, allow_dangerous_deserialization=True)\n",
    "    docs = new_db.similarity_search(user_question)\n",
    "\n",
    "    chain = get_conversational_chain()\n",
    "\n",
    "    response = chain(\n",
    "        {\"input_documents\":docs, \"question\":user_question}\n",
    "        , return_only_outputs=True)\n",
    "    print(response['output_text'])"
   ]
  },
  {
   "cell_type": "code",
   "execution_count": 6,
   "metadata": {},
   "outputs": [
    {
     "data": {
      "text/plain": [
       "'\\nuser_question = \"\"\"\\nHaz un resumen muy detallado del documento.\\nIncluye el objetivo.\\nIncluye la(s) hipótesis.\\nEvalua exhaustivamente si el objetivo e hipótesis se alinean con la base de datos presentada.\\nSi existen medidas calculadas usando DAX, por favor listalas, si alguna es errónea menciona como podría mejorarse y especifíca que hace cada una. Incluye una breve explicación sobre las funciones DAX usadas en su construcción.\\nSi existen transformaciones realizadas usando Power Query, detalla cuales fueron dichas transformaciones, a que tablas afectan y cual fue su objetivo.\\nPresenta las conclusiones y evalúa rigurosamente si responden al objetivo e hipótesis planteadas inicialmente.\\n\"\"\"\\nraw_text = get_pdf_text(pdf)\\ntext_chunks = get_text_chunks(raw_text)\\nget_vector_store(text_chunks)\\nuser_input(user_question)\\n'"
      ]
     },
     "execution_count": 6,
     "metadata": {},
     "output_type": "execute_result"
    }
   ],
   "source": [
    "'''\n",
    "user_question = \"\"\"\n",
    "Haz un resumen muy detallado del documento.\n",
    "Incluye el objetivo.\n",
    "Incluye la(s) hipótesis.\n",
    "Evalua exhaustivamente si el objetivo e hipótesis se alinean con la base de datos presentada.\n",
    "Si existen medidas calculadas usando DAX, por favor listalas, si alguna es errónea menciona como podría mejorarse y especifíca que hace cada una. Incluye una breve explicación sobre las funciones DAX usadas en su construcción.\n",
    "Si existen transformaciones realizadas usando Power Query, detalla cuales fueron dichas transformaciones, a que tablas afectan y cual fue su objetivo.\n",
    "Presenta las conclusiones y evalúa rigurosamente si responden al objetivo e hipótesis planteadas inicialmente.\n",
    "\"\"\"\n",
    "raw_text = get_pdf_text(pdf)\n",
    "text_chunks = get_text_chunks(raw_text)\n",
    "get_vector_store(text_chunks)\n",
    "user_input(user_question)\n",
    "'''"
   ]
  },
  {
   "cell_type": "code",
   "execution_count": 7,
   "metadata": {},
   "outputs": [
    {
     "ename": "FileNotFoundError",
     "evalue": "[Errno 2] No such file or directory: 'NoneNoneNone'",
     "output_type": "error",
     "traceback": [
      "\u001b[1;31m---------------------------------------------------------------------------\u001b[0m",
      "\u001b[1;31mFileNotFoundError\u001b[0m                         Traceback (most recent call last)",
      "Cell \u001b[1;32mIn[7], line 7\u001b[0m\n\u001b[0;32m      1\u001b[0m user_question \u001b[38;5;241m=\u001b[39m \u001b[38;5;124m\"\"\"\u001b[39m\n\u001b[0;32m      2\u001b[0m \u001b[38;5;124mEl documento presenta todas las tablas de una base de datos, sus campos (identificando si se trata de primary o foregigns keys) y las relaciones con las demás tablas.\u001b[39m\n\u001b[0;32m      3\u001b[0m \n\u001b[0;32m      4\u001b[0m \u001b[38;5;124mConstruye una consulta SQL compleja incluyendo unicamente las tablas: claim, activityfact, patientinsurance, payer, department, provider, patient, visit y visitbillvisit\u001b[39m\n\u001b[0;32m      5\u001b[0m \u001b[38;5;124my explícame cual es su funcionalidad en términos del negocio.\u001b[39m\n\u001b[0;32m      6\u001b[0m \u001b[38;5;124m\"\"\"\u001b[39m\n\u001b[1;32m----> 7\u001b[0m raw_text \u001b[38;5;241m=\u001b[39m \u001b[43mget_pdf_text\u001b[49m\u001b[43m(\u001b[49m\u001b[43mpdf\u001b[49m\u001b[43m)\u001b[49m\n\u001b[0;32m      8\u001b[0m text_chunks \u001b[38;5;241m=\u001b[39m get_text_chunks(raw_text)\n\u001b[0;32m      9\u001b[0m get_vector_store(text_chunks)\n",
      "Cell \u001b[1;32mIn[5], line 5\u001b[0m, in \u001b[0;36mget_pdf_text\u001b[1;34m(pdf)\u001b[0m\n\u001b[0;32m      3\u001b[0m \u001b[38;5;28;01mdef\u001b[39;00m \u001b[38;5;21mget_pdf_text\u001b[39m(pdf):\n\u001b[0;32m      4\u001b[0m     text\u001b[38;5;241m=\u001b[39m\u001b[38;5;124m\"\u001b[39m\u001b[38;5;124m\"\u001b[39m\n\u001b[1;32m----> 5\u001b[0m     pdf_reader\u001b[38;5;241m=\u001b[39m \u001b[43mPdfReader\u001b[49m\u001b[43m(\u001b[49m\u001b[43mpdf\u001b[49m\u001b[43m)\u001b[49m\n\u001b[0;32m      6\u001b[0m     \u001b[38;5;28;01mfor\u001b[39;00m page \u001b[38;5;129;01min\u001b[39;00m pdf_reader\u001b[38;5;241m.\u001b[39mpages:\n\u001b[0;32m      7\u001b[0m         text\u001b[38;5;241m+\u001b[39m\u001b[38;5;241m=\u001b[39m page\u001b[38;5;241m.\u001b[39mextract_text()\n",
      "File \u001b[1;32mc:\\Users\\a.canod\\AppData\\Local\\anaconda3\\envs\\entorno_pruebas_acd\\Lib\\site-packages\\PyPDF2\\_reader.py:317\u001b[0m, in \u001b[0;36mPdfReader.__init__\u001b[1;34m(self, stream, strict, password)\u001b[0m\n\u001b[0;32m    311\u001b[0m     logger_warning(\n\u001b[0;32m    312\u001b[0m         \u001b[38;5;124m\"\u001b[39m\u001b[38;5;124mPdfReader stream/file object is not in binary mode. \u001b[39m\u001b[38;5;124m\"\u001b[39m\n\u001b[0;32m    313\u001b[0m         \u001b[38;5;124m\"\u001b[39m\u001b[38;5;124mIt may not be read correctly.\u001b[39m\u001b[38;5;124m\"\u001b[39m,\n\u001b[0;32m    314\u001b[0m         \u001b[38;5;18m__name__\u001b[39m,\n\u001b[0;32m    315\u001b[0m     )\n\u001b[0;32m    316\u001b[0m \u001b[38;5;28;01mif\u001b[39;00m \u001b[38;5;28misinstance\u001b[39m(stream, (\u001b[38;5;28mstr\u001b[39m, Path)):\n\u001b[1;32m--> 317\u001b[0m     \u001b[38;5;28;01mwith\u001b[39;00m \u001b[38;5;28;43mopen\u001b[39;49m\u001b[43m(\u001b[49m\u001b[43mstream\u001b[49m\u001b[43m,\u001b[49m\u001b[43m \u001b[49m\u001b[38;5;124;43m\"\u001b[39;49m\u001b[38;5;124;43mrb\u001b[39;49m\u001b[38;5;124;43m\"\u001b[39;49m\u001b[43m)\u001b[49m \u001b[38;5;28;01mas\u001b[39;00m fh:\n\u001b[0;32m    318\u001b[0m         stream \u001b[38;5;241m=\u001b[39m BytesIO(fh\u001b[38;5;241m.\u001b[39mread())\n\u001b[0;32m    319\u001b[0m \u001b[38;5;28mself\u001b[39m\u001b[38;5;241m.\u001b[39mread(stream)\n",
      "\u001b[1;31mFileNotFoundError\u001b[0m: [Errno 2] No such file or directory: 'NoneNoneNone'"
     ]
    }
   ],
   "source": [
    "user_question = \"\"\"\n",
    "El documento presenta todas las tablas de una base de datos, sus campos (identificando si se trata de primary o foregigns keys) y las relaciones con las demás tablas.\n",
    "\n",
    "Construye una consulta SQL compleja incluyendo unicamente las tablas: claim, activityfact, patientinsurance, payer, department, provider, patient, visit y visitbillvisit\n",
    "y explícame cual es su funcionalidad en términos del negocio.\n",
    "\"\"\"\n",
    "raw_text = get_pdf_text(pdf)\n",
    "text_chunks = get_text_chunks(raw_text)\n",
    "get_vector_store(text_chunks)\n",
    "user_input(user_question)"
   ]
  }
 ],
 "metadata": {
  "kernelspec": {
   "display_name": "entorno_pruebas_acd",
   "language": "python",
   "name": "python3"
  },
  "language_info": {
   "codemirror_mode": {
    "name": "ipython",
    "version": 3
   },
   "file_extension": ".py",
   "mimetype": "text/x-python",
   "name": "python",
   "nbconvert_exporter": "python",
   "pygments_lexer": "ipython3",
   "version": "3.11.8"
  }
 },
 "nbformat": 4,
 "nbformat_minor": 2
}

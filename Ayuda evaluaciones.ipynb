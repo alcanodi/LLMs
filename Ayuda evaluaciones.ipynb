{
 "cells": [
  {
   "cell_type": "markdown",
   "metadata": {},
   "source": [
    "Install packages "
   ]
  },
  {
   "cell_type": "code",
   "execution_count": null,
   "metadata": {},
   "outputs": [],
   "source": [
    "!pip install google-generativeai\n",
    "!pip install python-dotenv\n",
    "!pip install langchain\n",
    "!pip install PyPDF2\n",
    "!pip install chromadb\n",
    "!pip install faiss-cpu\n",
    "!pip install langchain_google_genai\n",
    "!pip install langchain sqlalchemy\n",
    "!pip install python-dotenv"
   ]
  },
  {
   "cell_type": "markdown",
   "metadata": {},
   "source": [
    "Importing libraries"
   ]
  },
  {
   "cell_type": "code",
   "execution_count": 1,
   "metadata": {},
   "outputs": [
    {
     "name": "stderr",
     "output_type": "stream",
     "text": [
      "c:\\Users\\a.canod\\AppData\\Local\\anaconda3\\envs\\entorno_pruebas_acd\\Lib\\site-packages\\tqdm\\auto.py:21: TqdmWarning: IProgress not found. Please update jupyter and ipywidgets. See https://ipywidgets.readthedocs.io/en/stable/user_install.html\n",
      "  from .autonotebook import tqdm as notebook_tqdm\n"
     ]
    }
   ],
   "source": [
    "from PyPDF2 import PdfReader\n",
    "from langchain.text_splitter import RecursiveCharacterTextSplitter\n",
    "import os\n",
    "from langchain_google_genai import GoogleGenerativeAIEmbeddings\n",
    "import google.generativeai as genai\n",
    "from langchain.vectorstores import FAISS\n",
    "from langchain_google_genai import ChatGoogleGenerativeAI\n",
    "from langchain.chains.question_answering import load_qa_chain\n",
    "from langchain.prompts import PromptTemplate\n",
    "from dotenv import load_dotenv"
   ]
  },
  {
   "cell_type": "markdown",
   "metadata": {},
   "source": [
    "Configure Gemini API key"
   ]
  },
  {
   "cell_type": "code",
   "execution_count": 20,
   "metadata": {},
   "outputs": [],
   "source": [
    "from dotenv import load_dotenv\n",
    "import os\n",
    "load_dotenv()\n",
    "GEMINI_API_KEY=os.getenv('GEMINI_API_KEY')"
   ]
  },
  {
   "cell_type": "code",
   "execution_count": 25,
   "metadata": {},
   "outputs": [],
   "source": [
    "import google.generativeai as genai\n",
    "\n",
    "\n",
    "gemini_api_secret_name = GEMINI_API_KEY\n",
    "\n",
    "GOOGLE_API_KEY=gemini_api_secret_name\n",
    "genai.configure(api_key=GOOGLE_API_KEY)"
   ]
  },
  {
   "cell_type": "markdown",
   "metadata": {},
   "source": [
    "Fijar directorio de tabajo"
   ]
  },
  {
   "cell_type": "code",
   "execution_count": 26,
   "metadata": {},
   "outputs": [],
   "source": [
    "comision = os.getenv('COMISION')\n",
    "alumno = os.getenv('ALUMNO')\n",
    "archivo = os.getenv('ARCHIVO')\n",
    "pdf = f'{comision}{alumno}{archivo}'"
   ]
  },
  {
   "cell_type": "markdown",
   "metadata": {},
   "source": [
    "Definir funciones"
   ]
  },
  {
   "cell_type": "code",
   "execution_count": 27,
   "metadata": {},
   "outputs": [],
   "source": [
    "google_api_key=GEMINI_API_KEY\n",
    "chat_history=[]\n",
    "def get_pdf_text(pdf):\n",
    "    text=\"\"\n",
    "    pdf_reader= PdfReader(pdf)\n",
    "    for page in pdf_reader.pages:\n",
    "        text+= page.extract_text()\n",
    "    return  text\n",
    "def get_text_chunks(text):\n",
    "    text_splitter = RecursiveCharacterTextSplitter(chunk_size=10000, chunk_overlap=1000)\n",
    "    chunks = text_splitter.split_text(text)\n",
    "    return chunks\n",
    "\n",
    "\n",
    "def get_vector_store(text_chunks):\n",
    "    embeddings = GoogleGenerativeAIEmbeddings(model = \"models/embedding-001\", google_api_key=google_api_key)\n",
    "    vector_store = FAISS.from_texts(text_chunks, embedding=embeddings)\n",
    "    vector_store.save_local(\"faiss_index\")\n",
    "\n",
    "\n",
    "def get_conversational_chain():\n",
    "\n",
    "    prompt_template = \"\"\"\n",
    "\n",
    "    Please answer in spanish \\n\\n\n",
    "    Context:\\n {context}?\\n\n",
    "    Question: \\n{question}\\n\n",
    "\n",
    "    Answer:\n",
    "    \"\"\"\n",
    "\n",
    "    model = ChatGoogleGenerativeAI(model=\"gemini-pro\",\n",
    "                             temperature=0, google_api_key=google_api_key)\n",
    "\n",
    "    prompt = PromptTemplate(template = prompt_template, input_variables = [\"context\", \"question\"])\n",
    "    chain = load_qa_chain(model, chain_type=\"stuff\", prompt=prompt)\n",
    "\n",
    "    return chain\n",
    "\n",
    "def user_input(user_question):\n",
    "    embeddings = GoogleGenerativeAIEmbeddings(model = \"models/embedding-001\", google_api_key=google_api_key)\n",
    "\n",
    "    new_db = FAISS.load_local(\"faiss_index\", embeddings, allow_dangerous_deserialization=True)\n",
    "    docs = new_db.similarity_search(user_question)\n",
    "\n",
    "    chain = get_conversational_chain()\n",
    "\n",
    "    response = chain(\n",
    "        {\"input_documents\":docs, \"question\":user_question}\n",
    "        , return_only_outputs=True)\n",
    "    print(response['output_text'])"
   ]
  },
  {
   "cell_type": "code",
   "execution_count": 28,
   "metadata": {},
   "outputs": [
    {
     "name": "stdout",
     "output_type": "stream",
     "text": [
      "**Resumen del documento**\n",
      "\n",
      "El documento presenta un dashboard analítico para las ventas de licores en el estado de Iowa, Estados Unidos. El objetivo del dashboard es asistir en la toma de decisiones y el control operativo relacionado con la venta de alcohol.\n",
      "\n",
      "**Objetivo**\n",
      "\n",
      "El objetivo del dashboard es asistir en el análisis decisorio en relación con la venta de alcohol, mediante métricas detalladas para el control.\n",
      "\n",
      "**Hipótesis**\n",
      "\n",
      "El documento no presenta hipótesis explícitas.\n",
      "\n",
      "**Alineación con la base de datos**\n",
      "\n",
      "El objetivo del dashboard se alinea con la base de datos presentada, que contiene información detallada de las ventas realizadas en establecimientos con licencia de licor de Clase \"E\" de Iowa para varios productos de licores durante un período de un año.\n",
      "\n",
      "**Medidas calculadas usando DAX**\n",
      "\n",
      "* **Total Price:** Calcula el precio total de cada venta multiplicando el precio unitario por la cantidad vendida.\n",
      "* **Unitary Cost:** Obtiene el costo unitario de cada producto mediante una búsqueda en la tabla de costos.\n",
      "* **Unitary Price:** Obtiene el precio unitario de cada producto mediante una búsqueda en la tabla de precios.\n",
      "* **Total Cost:** Calcula el costo total de cada venta multiplicando la cantidad vendida por el costo unitario.\n",
      "* **Day Name:** Formatea la fecha como el nombre del día de la semana.\n",
      "* **Month Name:** Formatea la fecha como el nombre del mes.\n",
      "* **Month:** Extrae el número del mes de la fecha.\n",
      "* **Quarter:** Formatea la fecha como el trimestre del año.\n",
      "* **Week Number:** Extrae el número de la semana del año de la fecha.\n",
      "* **Year:** Extrae el año de la fecha.\n",
      "\n",
      "**Conclusiones**\n",
      "\n",
      "El documento no presenta conclusiones explícitas.\n"
     ]
    }
   ],
   "source": [
    "user_question = \"\"\"\n",
    "Haz un resumen muy detallado del documento.\n",
    "Incluye el objetivo.\n",
    "Incluye la(s) hipótesis.\n",
    "Evalua si el objetivo e hipótesis se alinean con la base de datos presentada.\n",
    "Si existen medidas calculadas usando DAX, por favor listalas, si alguna es errónea menciona como podría mejorarse y especifíca que hace cada una.\n",
    "Presenta las conclusiones.\n",
    "\"\"\"\n",
    "raw_text = get_pdf_text(pdf)\n",
    "text_chunks = get_text_chunks(raw_text)\n",
    "get_vector_store(text_chunks)\n",
    "user_input(user_question)"
   ]
  },
  {
   "cell_type": "code",
   "execution_count": null,
   "metadata": {},
   "outputs": [],
   "source": []
  }
 ],
 "metadata": {
  "kernelspec": {
   "display_name": "entorno_pruebas_acd",
   "language": "python",
   "name": "python3"
  },
  "language_info": {
   "codemirror_mode": {
    "name": "ipython",
    "version": 3
   },
   "file_extension": ".py",
   "mimetype": "text/x-python",
   "name": "python",
   "nbconvert_exporter": "python",
   "pygments_lexer": "ipython3",
   "version": "3.11.8"
  }
 },
 "nbformat": 4,
 "nbformat_minor": 2
}
